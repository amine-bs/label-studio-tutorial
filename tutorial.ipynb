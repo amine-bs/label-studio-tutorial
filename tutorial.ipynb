{
 "cells": [
  {
   "cell_type": "markdown",
   "id": "448fa415-2bc2-461f-9222-8bdb4bcb716c",
   "metadata": {},
   "source": [
    "# Label-Studio"
   ]
  },
  {
   "cell_type": "markdown",
   "id": "c5e3c1c6-2ca0-4df8-865c-71e4ba0e10b2",
   "metadata": {},
   "source": [
    "Label-studio est un outil d'annotation de données. Il offre une large variété de tâches d'annotation pour la vision par ordinateur, le traitement de language naturel, traitement audio et l'analyse de séries chronologiques. "
   ]
  },
  {
   "cell_type": "markdown",
   "id": "970c4736-0fd1-4114-af12-d08687cb0688",
   "metadata": {},
   "source": [
    "Dans ce tutoriel, on explique comment connecter label-studio au serveur minIO de SSPCloud pour importer et exporter les données directement du stockage de Datalab. On va connecter un bucket qui contient d'images de différents plats qu'on veut classer en deux types: pizza et not-pizza"
   ]
  },
  {
   "cell_type": "markdown",
   "id": "45e4be22-526a-4c67-a7f0-cc21a0eee878",
   "metadata": {},
   "source": [
    "## 1- Configuration de l'annotation"
   ]
  },
  {
   "cell_type": "markdown",
   "id": "c8fb03e8-f9b3-41c9-945e-29d9f9c53db3",
   "metadata": {},
   "source": [
    "En créant un nouveau projet sur Label-Studio, on peut consulter les différentes configurations d'anntotation qu'il offre sous la rubrique ``labeling setup``. Dans notre cas, on est intéressé par la configuration de ``Image classification`` qui est une tâche de ``computer vision``"
   ]
  },
  {
   "cell_type": "markdown",
   "id": "6242433a-e422-4cd8-9c68-0bde133b0c9e",
   "metadata": {},
   "source": [
    "Dans l'espace ``add choices``, on peut ajouter nos classes qui sont pizza et not-pizza. \n",
    "\n",
    "**L'ordre de l'ajout de classes est important**. Dans notre cas, l'indice 0 correspond à la classe ``pizza`` et l'indice 1 correspond à la classe ``not-pizza``."
   ]
  },
  {
   "cell_type": "markdown",
   "id": "9b26d375-84eb-495d-b219-2ccc4edcc4ed",
   "metadata": {},
   "source": [
    "<img src=\"notebook-img/create-project.jpg\">"
   ]
  },
  {
   "cell_type": "markdown",
   "id": "efe9bee7-4702-49c3-aeee-f84bf04cad42",
   "metadata": {},
   "source": [
    "Dans la rubrique ``Data Import``, on peut importer des données locales ou télécharger une base de données en utilisant un url. Mais, dans ce tutoriel, on s'intéresse à l'importation de données d'un bucket s3 sur le SSPCloud. Donc on sauvergarde le projet ``save`` et on passe à l'étape suivante."
   ]
  },
  {
   "cell_type": "markdown",
   "id": "1a5759f2-1d2a-4700-a140-7aa8e7ee30a7",
   "metadata": {},
   "source": [
    "## 2- Connection sur s3 de SSPCloud"
   ]
  },
  {
   "cell_type": "markdown",
   "id": "bb66286e-e51a-4e19-a974-d7c4e7b16aee",
   "metadata": {},
   "source": [
    "La plupart de services de DataLab utilisent le stockage s3 de SSPCloud. Donc il est fortement recommandé d'importer vos données sur votre espace au début de votre projet une fois pour toute. "
   ]
  },
  {
   "cell_type": "markdown",
   "id": "398673dd-3870-4260-aa12-6b91674f694f",
   "metadata": {},
   "source": [
    "On ouvre le projet créé précédemment sur Label-Studio et on passe à la rubrique ``settings -> CloudStorage -> Add Source Storage`` qui permet d'importer les données à annoter d'un bucket s3 sur SSPCloud. Ici, il suffit de configurer le champ ``Bucket Name`` qui indique le nom de Bucket qui contient les données. Le nom de votre Bucket personnel est disponible dans la rubrique ``My Files`` sur Datalab."
   ]
  },
  {
   "cell_type": "markdown",
   "id": "5acea6fe-0ca4-42ca-a376-7e3b53d22327",
   "metadata": {},
   "source": [
    "<img src=\"notebook-img/settings.jpg\">"
   ]
  },
  {
   "cell_type": "code",
   "execution_count": 5,
   "id": "48160f00-24fd-44f5-8e95-27601aba494e",
   "metadata": {},
   "outputs": [
    {
     "name": "stdout",
     "output_type": "stream",
     "text": [
      "\u001b[m\u001b[32m[2022-10-10 13:43:05 UTC]\u001b[0m\u001b[33m    39B\u001b[0m \u001b[34mSTANDARD\u001b[0m\u001b[1m .keep\u001b[0m\n",
      "\u001b[0m\u001b[m\u001b[32m[2022-10-20 08:02:31 UTC]\u001b[0m\u001b[33m     0B\u001b[0m\u001b[36;1m not_pizza/\u001b[0m\n",
      "\u001b[0m\u001b[m\u001b[32m[2022-10-20 08:02:31 UTC]\u001b[0m\u001b[33m     0B\u001b[0m\u001b[36;1m pizza/\u001b[0m\n",
      "\u001b[0m"
     ]
    }
   ],
   "source": [
    "! mc ls s3/mbenxsalha/diffusion/pizza-not-pizza"
   ]
  },
  {
   "cell_type": "markdown",
   "id": "5d7e4e4d-152b-4032-8e15-4c999ac9dda4",
   "metadata": {},
   "source": [
    "Le bucket ``mbenxsalha`` contient les données qu'on va utiliser dans ce tutoriel sous la préfixe``diffusion/pizza-not-pizza`` . Cette préfixe contient deux dossiers ``pizza`` et ``not_pizza`` contenant chacun des données. Pour pouvoir lire des données dans des multiples dossiers sous une préfixe, on doit activer l'option ``Recursive scan``. De plus, pour lire les fichiers de type autre que JSON, on doit activer l'option ``Treat evert bucket object as a source file``. Les autres paramètres d'accés (token, key, endpoint, region) sont configurés en avance sur label-studio avec des variables d'environnement, donc on peut les laisser vides. On peut tester notre conenction en cliquant sur ``test`` et d'ajouter le stockage avec ``add storage``. Enfin, pour ajouter les données sur ce stockage au projet d'annotation, on clique sur ``sync storage``.\n",
    "\n",
    "Dans settings, on peut aussi configurer un ``target cloud storage`` en suivant les même étapes. Cela permet d'exporter les annotations créées dans le projet vers un bucket s3."
   ]
  },
  {
   "cell_type": "markdown",
   "id": "1c6cdf1c-3776-4359-88f9-e99bd60d8fac",
   "metadata": {},
   "source": [
    "<img src=\"notebook-img/label.jpg\">"
   ]
  },
  {
   "cell_type": "markdown",
   "id": "3cd7244a-a6ff-47a4-9ee6-7300aa7ca42b",
   "metadata": {},
   "source": [
    "## 3- Connecter un modèle à Label-Studio"
   ]
  },
  {
   "cell_type": "code",
   "execution_count": 8,
   "id": "1843004c-add1-4a6f-bb20-10ba6a49fb8f",
   "metadata": {},
   "outputs": [],
   "source": [
    "#install dependencies\n",
    "!pip install label-studio label-studio-ml\n",
    "!pip install torch torchvision\n",
    "!pip install Flask==2.1.0"
   ]
  },
  {
   "cell_type": "markdown",
   "id": "c58b90b9-eb7c-4c84-8a1c-7fa6778a2f6d",
   "metadata": {},
   "source": [
    "Label-studio offre la possibilité de se connecter à un modèle. Cela permet de :\n",
    "- pré-annoter les données en utilisant un modèle d'inférence\n",
    "- entrainer un modèle en utilisant les données annotés sur Label-Studio\n"
   ]
  },
  {
   "cell_type": "markdown",
   "id": "20927e5f-ded0-4796-9f6c-8e795459321f",
   "metadata": {},
   "source": [
    "Pour ce faire, il faut exposer le modèle avec une API en utilisant le SDK ``label-studio-ml``. L'api doit être une sous-classe de ``label_studio_ml.model.LabelStudioMLBase``. Ainsi, l'api hérite deux fonctions abstraites ``fit`` et ``predict`` qui permettent d'entrainer et d'inférer le modèle. Le code de l'api utilisée ici est disponible dans le fichier ``label_studio_server.py``.\n",
    "\n",
    "On exécute la commande suivante:"
   ]
  },
  {
   "cell_type": "code",
   "execution_count": null,
   "id": "1b109b12-21dc-4ee1-9ff6-321f1ac21547",
   "metadata": {},
   "outputs": [],
   "source": [
    "!label-studio-ml init tutorial --script label_studio_server.py"
   ]
  },
  {
   "cell_type": "markdown",
   "id": "d4c229e7-8845-4f80-b8d4-7a8a550b4ee2",
   "metadata": {},
   "source": [
    "Un dossier contenant les fichiers nécessaires à l'exécution de l'api vient d'être créer. \n",
    "\n",
    "Avant d'activer le serveur, il faut que le paramètre ``security.allowlist.enabled``de jupyter soit désactivée.\n",
    "<img src=\"notebook-img/security.jpg\">\n"
   ]
  },
  {
   "cell_type": "markdown",
   "id": "312b21df-1d5f-44bd-befc-0f136d8c78ee",
   "metadata": {},
   "source": [
    "Ensuite, on doit exposer l'api au monde extérieur pour pouvoir y connecter. Donc, dans la configuration de Jupyter, on active ``Networking -> enable a custom user port``. L'api créée par Label-studio utilise par défault le port 9090.\n",
    "<img src=\"notebook-img/port.jpg\">"
   ]
  },
  {
   "cell_type": "markdown",
   "id": "504d6e87-61cc-4b50-b0fa-93a78985c345",
   "metadata": {},
   "source": [
    "**Tous ces paramètres sont préconfigurés dans ce tutoriel !**"
   ]
  },
  {
   "cell_type": "markdown",
   "id": "e85b1922-d67d-4365-a5bf-ee2512dd092c",
   "metadata": {},
   "source": [
    "Pour lancer l'API, on exécute la commande suivante:"
   ]
  },
  {
   "cell_type": "code",
   "execution_count": null,
   "id": "675d8b4b-2048-48d3-88a6-3904071bb7ad",
   "metadata": {},
   "outputs": [],
   "source": [
    "!label-studio-ml start tutorial"
   ]
  },
  {
   "cell_type": "markdown",
   "id": "ae5cd768-250b-4dc7-84a1-26e0f9b91379",
   "metadata": {},
   "source": [
    "Vous pouvez trouver le lien de l'api que vous venez de créer en changeant le lien du notebook comme dans l'exemple suivant:\n",
    "- lien de notebook: https://user-username-239011-0.user.lab.sspcloud.fr/\n",
    "- modifier le \"-0\" par \"-user\". Donc pour cet exemple, le lien de l'API est: https://user-username-239011-user.user.lab.sspcloud.fr/\n"
   ]
  },
  {
   "cell_type": "markdown",
   "id": "e2488615-de43-4d8f-943c-63d623876c46",
   "metadata": {},
   "source": [
    "Enfin, vous pouvez connecter à l'API sur Label-Studio en utilisant ce lien dans ``Settings -> Machine Learning -> Add Model -> URL``.\n",
    "Pour inférer le modèle, il faut activer l'option ``use for active preannotations``\n",
    "<img src=\"notebook-img/ml.jpg\">"
   ]
  }
 ],
 "metadata": {
  "kernelspec": {
   "display_name": "Python 3 (ipykernel)",
   "language": "python",
   "name": "python3"
  },
  "language_info": {
   "codemirror_mode": {
    "name": "ipython",
    "version": 3
   },
   "file_extension": ".py",
   "mimetype": "text/x-python",
   "name": "python",
   "nbconvert_exporter": "python",
   "pygments_lexer": "ipython3",
   "version": "3.9.0"
  }
 },
 "nbformat": 4,
 "nbformat_minor": 5
}
